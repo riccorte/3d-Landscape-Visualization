{
 "cells": [
  {
   "cell_type": "code",
   "execution_count": null,
   "id": "f7782d2d",
   "metadata": {
    "vscode": {
     "languageId": "r"
    }
   },
   "outputs": [],
   "source": [
    "import numpy as np\n",
    "import matplotlib.pyplot as plt\n",
    "import pandas as pd\n",
    "from sklearn.datasets import fetch_openml\n",
    "\n",
    "from sklearn.decomposition import PCA, KernelPCA\n",
    "from sklearn.preprocessing import StandardScaler\n",
    "\n",
    "import matplotlib.pyplot as plt\n",
    "from matplotlib.colors import ListedColormap\n",
    "#mycmap = ListedColormap([\"blue\",\"red\",\"gold\",\"green\",\"purple\",\"orange\",\"pink\",\"brown\",\"gray\"])\n",
    "mycmap = ListedColormap([\"blue\",\"red\", \"gold\"])\n",
    "import plotly.graph_objects as go\n"
   ]
  },
  {
   "cell_type": "code",
   "execution_count": null,
   "id": "f66f091d",
   "metadata": {
    "vscode": {
     "languageId": "r"
    }
   },
   "outputs": [],
   "source": [
    "E = np.zeros(h_generated.shape[0])\n",
    "for i in range(len(E)):\n",
    "    v = v_generated[i,:]\n",
    "    h = h_generated[i,:]\n",
    "    E[i] = -np.dot(v, a) -np.dot(h, b) - np.dot(v, np.dot(h, w))\n"
   ]
  },
  {
   "cell_type": "code",
   "execution_count": null,
   "id": "737c7e00",
   "metadata": {
    "vscode": {
     "languageId": "r"
    }
   },
   "outputs": [],
   "source": [
    "grid = np.linspace(-5, 5, 30)\n",
    "xx, yy, zz = np.meshgrid(grid, grid, grid)\n",
    "\n",
    "# generate h and v for each point in the grid\n",
    "# apply inverse PCA and inverse scaler to find h\n",
    "h_generated = scaler.inverse_transform(pca.inverse_transform(np.c_[xx.ravel(), yy.ravel(), zz.ravel()]))\n",
    "v_generated = hidden_to_visible(h_generated, model)\n",
    "\n",
    "# Contrasting divergence using gibbs sampling\n",
    "for _ in range(3):\n",
    "    v_generated = model.gibbs(v_generated)\n"
   ]
  },
  {
   "cell_type": "code",
   "execution_count": null,
   "id": "810ea942",
   "metadata": {
    "vscode": {
     "languageId": "r"
    }
   },
   "outputs": [],
   "source": [
    "# Perform PCA (kernel='linear' for the usual PCA)\n",
    "pca = KernelPCA(n_components=3, kernel='linear', fit_inverse_transform=True)\n",
    "X_pca = pca.fit_transform(scaled_data)\n",
    "\n",
    "#print(\"Explained variance from the first 3 components:\", np.sum(pca.explained_variance_ratio_))\n",
    "\n",
    "fig = go.Figure(data=[go.Scatter3d(x=X_pca[:,0], y=X_pca[:,1], z=X_pca[:,2], mode='markers',\n",
    "\t\t\t\tmarker=dict(size=5, color=label, colorscale=mycmap.colors, opacity=0.8))])\n",
    "fig.update_layout(width=800, height=800, margin=dict(l=0,r=0,b=0,t=0,pad=0))\n",
    "fig.show()\n"
   ]
  },
  {
   "cell_type": "code",
   "execution_count": null,
   "id": "ddd8ebac",
   "metadata": {
    "vscode": {
     "languageId": "r"
    }
   },
   "outputs": [],
   "source": [
    "# Perform PCA (kernel='linear' for the usual PCA)\n",
    "\n",
    "KERNEL = ['linear', 'poly', 'rbf', 'sigmoid']\n",
    "fig, axs = plt.subplots(1, 4, figsize=(14, 4))\n",
    "\n",
    "for i in range(len(KERNEL)):\n",
    "    pca = KernelPCA(n_components=2, kernel=KERNEL[i], fit_inverse_transform=True, gamma=0.05)\n",
    "    X_pca = pca.fit_transform(scaled_data)\n",
    "\n",
    "    axs[i].scatter(X_pca[:, 0], X_pca[:, 1], c=label, cmap=mycmap, s=10)\n",
    "    axs[i].set_title(f\"KernelPCA - {KERNEL[i]}\")\n",
    "    axs[i].set_xticks([])\n",
    "    axs[i].set_yticks([])\n",
    "plt.tight_layout()\n",
    "plt.colorbar(axs[0].collections[0], ax=axs, orientation='vertical', fraction=0.02, pad=0.04)\n",
    "plt.show()\n"
   ]
  },
  {
   "cell_type": "code",
   "execution_count": null,
   "id": "84531f18",
   "metadata": {
    "vscode": {
     "languageId": "r"
    }
   },
   "outputs": [],
   "source": [
    "# Train RBM\n",
    "from sklearn import linear_model\n",
    "from sklearn.neural_network import BernoulliRBM\n",
    "from sklearn.pipeline import Pipeline\n",
    "\n",
    "\"https://scikit-learn.org/stable/modules/generated/sklearn.neural_network.BernoulliRBM.html\"\n",
    "model = BernoulliRBM(n_components=24, learning_rate=0.1, n_iter=200, verbose=0, random_state=0)\n",
    "RBM_fit = model.fit(data, label)\n",
    "\n",
    "# Extract the weights and biases\n",
    "w = model.components_\n",
    "a = model.intercept_visible_\n",
    "b = model.intercept_hidden_\n",
    "\n",
    "# Extract the hidden layer\n",
    "h = model.transform(data)\n",
    "\n",
    "# Standardize the data\n",
    "scaler = StandardScaler()\n",
    "scaled_data = scaler.fit_transform(h)\n"
   ]
  },
  {
   "cell_type": "code",
   "execution_count": null,
   "id": "4073fde9",
   "metadata": {
    "vscode": {
     "languageId": "r"
    }
   },
   "outputs": [],
   "source": [
    "def sigmoid(x):\n",
    "    \"\"\"Compute the sigmoid activation function.\"\"\"\n",
    "    x = np.clip(x, -500, 500)  # Avoid overflow\n",
    "    return 1 / (1 + np.exp(-x))\n",
    "\n",
    "def hidden_to_visible(hidden, model):\n",
    "    w = model.components_\n",
    "    a = model.intercept_visible_\n",
    "    prob_visible = sigmoid(np.dot(hidden, w) + a)\n",
    "    v = (prob_visible > np.random.rand(*prob_visible.shape)).astype(int)\n",
    "    return v\n",
    "\n",
    "def visible_to_hidden(visible, model):\n",
    "    w = model.components_\n",
    "    b = model.intercept_hidden_\n",
    "    prob_hidden = sigmoid(np.dot(w, visible) + b)\n",
    "    h = (prob_hidden > np.random.rand(*prob_hidden.shape)).astype(int)\n",
    "    return h\n"
   ]
  },
  {
   "cell_type": "code",
   "execution_count": null,
   "metadata": {
    "vscode": {
     "languageId": "r"
    }
   },
   "outputs": [],
   "source": [
    "pixels, label = fetch_openml(\"mnist_784\", version=1, return_X_y=True, as_frame=False)\n",
    "label = label.astype(int)\n",
    "pixels = np.where(pixels / np.max(pixels) > 0.5, 1, 0).astype(int)\n",
    "\n",
    "dataframe = { \"label\": label, \"pixels\": [px for px in pixels] }\n",
    "df = pd.DataFrame(dataframe)\n",
    "\n",
    "N = 1000\n",
    "dataset = df[df[\"label\"] <= 2] # select only 0, 1, 2 values\n",
    "valSet = dataset[N:N+400]\n",
    "dataset = dataset[0:N]\n",
    "data = dataset[\"pixels\"].to_list()\n",
    "label = dataset[\"label\"].to_list()\n"
   ]
  },
  {
   "cell_type": "code",
   "execution_count": null,
   "metadata": {
    "vscode": {
     "languageId": "r"
    }
   },
   "outputs": [],
   "source": [
    "fig = go.Figure(data=go.Volume(\n",
    "    x=xx.flatten(), y=yy.flatten(), z=zz.flatten(),\n",
    "    value=E,\n",
    "    #isomin=0.2,\n",
    "    #isomax=0.7,\n",
    "    opacity=0.05,\n",
    "    surface_count=30,\n",
    "    colorscale=\"Magma\",\n",
    "    reversescale=True,\n",
    "    colorbar={\"title\": \"Energy\"}\n",
    "    ))\n",
    "\n",
    "fig.add_trace(go.Scatter3d(\n",
    "    x=X_pca[:,0],\n",
    "    y=X_pca[:,1],\n",
    "    z=X_pca[:,2],\n",
    "    mode=\"markers\",\n",
    "    marker=dict(\n",
    "        size=3,\n",
    "        color=label,\n",
    "        colorscale=mycmap.colors,  # Use labels to color points\n",
    "    ),\n",
    "    name=\"Hidden Points\"\n",
    "))\n",
    "\n",
    "\n",
    "fig.update_layout(width=800, height=800, title=\"Energy Landscape of RBM\",\n",
    "                  scene=dict(\n",
    "                      xaxis_title=\"PCA0\",\n",
    "                      yaxis_title=\"PCA1\",\n",
    "                      zaxis_title=\"PCA2\"\n",
    "                  ))\n",
    "fig.show()\n"
   ]
  }
 ],
 "metadata": {
  "language_info": {
   "name": "python"
  }
 },
 "nbformat": 4,
 "nbformat_minor": 5
}
